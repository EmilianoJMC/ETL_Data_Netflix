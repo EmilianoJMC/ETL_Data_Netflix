{
 "cells": [
  {
   "cell_type": "markdown",
   "metadata": {},
   "source": [
    "### Import de Bibliotecas"
   ]
  },
  {
   "cell_type": "code",
   "execution_count": 68,
   "metadata": {},
   "outputs": [],
   "source": [
    "#Automação WEB\n",
    "from selenium import webdriver\n",
    "import chromedriver_autoinstaller\n",
    "from selenium.webdriver.common.by import By\n",
    "from time import sleep\n",
    "from selenium.webdriver.common.keys import Keys\n",
    "from pyautogui import alert, confirm\n",
    "\n",
    "#Alerta\n",
    "import tkinter as tk\n",
    "from tkinter import messagebox\n",
    "import sys\n",
    "\n",
    "#Organizar/Extrair_ZIP/Load Arquivos\n",
    "import os\n",
    "from pathlib import Path\n",
    "import shutil\n",
    "from zipfile import ZipFile\n",
    "import pandas as pd\n",
    "\n",
    "#Conexão ao DB\n",
    "from sqlalchemy import create_engine, text\n",
    "import urllib.parse\n",
    "\n",
    "#Envio de E-mail\n",
    "import smtplib\n",
    "import email.message"
   ]
  },
  {
   "cell_type": "markdown",
   "metadata": {},
   "source": [
    "### Alerta de Script"
   ]
  },
  {
   "cell_type": "code",
   "execution_count": 69,
   "metadata": {},
   "outputs": [
    {
     "name": "stdout",
     "output_type": "stream",
     "text": [
      "Confirmado\n",
      "O script continua executando...\n"
     ]
    }
   ],
   "source": [
    "def confirm_dialog():\n",
    "    # Criando a janela principal (oculta)\n",
    "    root = tk.Tk()\n",
    "    root.withdraw()  # Ocultar a janela principal\n",
    "\n",
    "    # Exibir a caixa de diálogo de confirmação\n",
    "    result = messagebox.askquestion(\"Script\", \"Script de extração/inserção das Bases.\", icon='question')\n",
    "\n",
    "    # Verificar a resposta\n",
    "    if result == 'yes':\n",
    "        print(\"Confirmado\")\n",
    "    else:\n",
    "        print(\"Cancelado\")\n",
    "        sys.exit()  # Interromper o script se \"Cancelar\" for clicado\n",
    "\n",
    "# Chamar a função\n",
    "confirm_dialog()\n",
    "\n",
    "# Resto do script continua se confirmado\n",
    "print(\"O script continua executando...\")"
   ]
  },
  {
   "cell_type": "markdown",
   "metadata": {},
   "source": [
    "### Web Scraping"
   ]
  },
  {
   "cell_type": "code",
   "execution_count": 70,
   "metadata": {},
   "outputs": [],
   "source": [
    "chromedriver_autoinstaller.install()\n",
    "Navegador = webdriver.Chrome()\n",
    "\n",
    "Link = \"https://www.kaggle.com/datasets/thedevastator/the-ultimate-netflix-tv-shows-and-movies-dataset\"\n",
    "Navegador.get(Link)\n",
    "sleep(1)\n",
    "\n",
    "Button_Sign_In = Navegador.find_element('xpath', '//*[@id=\"site-container\"]/div/div[4]/div[2]/div[2]/div/div[1]/a/button')\n",
    "Button_Sign_In.click()\n",
    "sleep(1)\n",
    "\n",
    "Button_Email = Navegador.find_element('xpath', '//*[@id=\"site-content\"]/div[2]/div/div/div[1]/form/div/div/div[1]/button[2]')\n",
    "Button_Email.click()\n",
    "sleep(1)\n",
    "\n",
    "Email_Address = Navegador.find_element('xpath', '//*[@id=\":r7:\"]')\n",
    "Email_Address.send_keys('emiliano.junqueira@gmail.com')\n",
    "\n",
    "Password = Navegador.find_element('xpath', '//*[@id=\":r8:\"]')\n",
    "Password .send_keys('K@ggle0051')\n",
    "\n",
    "Sign_In = Navegador.find_element('xpath', '//*[@id=\"site-content\"]/div[2]/div[1]/div/div[1]/form/div/div[4]/button[2]')\n",
    "Sign_In.click()\n",
    "sleep(5)\n",
    "\n",
    "Download = Navegador.find_element('xpath', '//*[@id=\"site-content\"]/div[2]/div/div[2]/div/div[2]/div[1]/div/div[2]/div[1]/button[1]')\n",
    "Download.click()\n",
    "sleep(5)\n",
    "\n",
    "Navegador.quit()"
   ]
  },
  {
   "cell_type": "markdown",
   "metadata": {},
   "source": [
    "### Organizar e Extrair o arquivo ZIP"
   ]
  },
  {
   "cell_type": "code",
   "execution_count": 71,
   "metadata": {},
   "outputs": [],
   "source": [
    "Origin = ('C:\\\\Users\\\\Miza\\\\Downloads\\\\archive.zip')\n",
    "Destiny = Path('C:\\\\Users\\\\Miza\\\\Desktop\\\\CoderHouse\\\\ProjetoSQL')\n",
    "\n",
    "shutil.copy2(Origin, Destiny)\n",
    "\n",
    "if os.path.exists(Origin):\n",
    "    os.remove(Origin)\n",
    "\n",
    "with ZipFile(\"archive.zip\", \"r\") as zip:\n",
    "    zip.extractall()"
   ]
  },
  {
   "cell_type": "markdown",
   "metadata": {},
   "source": [
    "### Conexão ao MySQL"
   ]
  },
  {
   "cell_type": "code",
   "execution_count": 72,
   "metadata": {},
   "outputs": [],
   "source": [
    "# Parâmetros de conexão\n",
    "usuario = \"root\"\n",
    "senha = \"Are@0051\"\n",
    "host = \"localhost\"  # Ou o IP do servidor\n",
    "nome_do_banco = \"netflix\"\n",
    "\n",
    "# URL-encode da senha para tratar caracteres especiais\n",
    "senha_codificada = urllib.parse.quote_plus(senha)\n",
    "\n",
    "# String de conexão com MySQL\n",
    "conexao_string = f\"mysql+pymysql://{usuario}:{senha_codificada}@{host}/{nome_do_banco}\"\n",
    "\n",
    "# Criação do engine de conexão\n",
    "engine = create_engine(conexao_string)"
   ]
  },
  {
   "cell_type": "markdown",
   "metadata": {},
   "source": [
    "### Truncar e Sobrescrever tabelas no DB"
   ]
  },
  {
   "cell_type": "code",
   "execution_count": 73,
   "metadata": {},
   "outputs": [
    {
     "name": "stdout",
     "output_type": "stream",
     "text": [
      "Tabelas sobrescritas com sucesso!\n"
     ]
    }
   ],
   "source": [
    "# Função para sobrescrever a tabela no banco de dados\n",
    "def sobrescrever_tabela(tabela_nome, df):\n",
    "    with engine.begin() as connection:\n",
    "        # Limpar a tabela (TRUNCATE mantém a estrutura e chaves)\n",
    "        connection.execute(text(f\"TRUNCATE TABLE {tabela_nome}\"))\n",
    "        \n",
    "        # Inserir os novos dados\n",
    "        df.to_sql(tabela_nome, con=connection, if_exists='append', index=False)\n",
    "\n",
    "# Lista de tabelas e arquivos CSV correspondentes\n",
    "tabelas_arquivos = {\n",
    "\n",
    "    \"best_movie_by_year_netflix\"  : \"C:/Users/Miza/Desktop/CoderHouse/ProjetoSQL/Best Movie by Year Netflix.csv\",\n",
    "    \"best_movies_netflix\"         : \"C:/Users/Miza/Desktop/CoderHouse/ProjetoSQL/Best Movies Netflix.csv\",\n",
    "    \"best_show_by_year_netflix\"   : \"C:/Users/Miza/Desktop/CoderHouse/ProjetoSQL/Best Show by Year Netflix.csv\",\n",
    "    \"best_shows_netflix\"          : \"C:/Users/Miza/Desktop/CoderHouse/ProjetoSQL/Best Shows Netflix.csv\",\n",
    "    \"raw_credits\"                 : \"C:/Users/Miza/Desktop/CoderHouse/ProjetoSQL/raw_credits.csv\",\n",
    "    \"raw_titles\"                  : \"C:/Users/Miza/Desktop/CoderHouse/ProjetoSQL/raw_titles.csv\"\n",
    "    \n",
    "}\n",
    "\n",
    "# Itera sobre as tabelas e seus arquivos correspondentes\n",
    "for tabela, arquivo in tabelas_arquivos.items():\n",
    "    # Carrega o CSV em um DataFrame\n",
    "    df = pd.read_csv(arquivo)\n",
    "    \n",
    "    # Sobrescreve a tabela no banco de dados\n",
    "    sobrescrever_tabela(tabela, df)\n",
    "\n",
    "print(\"Tabelas sobrescritas com sucesso!\")\n",
    "\n",
    "\n",
    "engine.dispose()"
   ]
  },
  {
   "cell_type": "markdown",
   "metadata": {},
   "source": [
    "### Alerta de Fim do Script "
   ]
  },
  {
   "cell_type": "code",
   "execution_count": 74,
   "metadata": {},
   "outputs": [
    {
     "name": "stdout",
     "output_type": "stream",
     "text": [
      "O script foi concluído.\n"
     ]
    }
   ],
   "source": [
    "# Alerta de conclusão\n",
    "def alert_end():\n",
    "    root = tk.Tk()\n",
    "    root.withdraw()  # Ocultar a janela principal\n",
    "    messagebox.showinfo(\"Conclusão\", \"O script foi concluído com sucesso!\")\n",
    "\n",
    "# Chamar o alerta ao final do script\n",
    "alert_end()\n",
    "\n",
    "# O script finaliza\n",
    "print(\"O script foi concluído.\")"
   ]
  }
 ],
 "metadata": {
  "kernelspec": {
   "display_name": "Python 3",
   "language": "python",
   "name": "python3"
  },
  "language_info": {
   "codemirror_mode": {
    "name": "ipython",
    "version": 3
   },
   "file_extension": ".py",
   "mimetype": "text/x-python",
   "name": "python",
   "nbconvert_exporter": "python",
   "pygments_lexer": "ipython3",
   "version": "3.12.2"
  }
 },
 "nbformat": 4,
 "nbformat_minor": 2
}
