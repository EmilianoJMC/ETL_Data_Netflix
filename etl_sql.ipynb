{
 "cells": [
  {
   "cell_type": "markdown",
   "metadata": {},
   "source": [
    "### Import de Bibliotecas"
   ]
  },
  {
   "cell_type": "code",
   "execution_count": 9,
   "metadata": {},
   "outputs": [],
   "source": [
    "#Automação WEB\n",
    "from selenium import webdriver\n",
    "import chromedriver_autoinstaller\n",
    "from selenium.webdriver.common.by import By\n",
    "from time import sleep\n",
    "from selenium.webdriver.common.keys import Keys\n",
    "\n",
    "#Alerta\n",
    "import tkinter as tk\n",
    "from tkinter import messagebox\n",
    "import sys\n",
    "\n",
    "#Organizar/Extrair_ZIP/Load Arquivos\n",
    "import os\n",
    "from pathlib import Path\n",
    "import shutil\n",
    "from zipfile import ZipFile\n",
    "import pandas as pd\n",
    "\n",
    "#Conexão ao DB\n",
    "from sqlalchemy import create_engine, text\n",
    "import urllib.parse\n",
    "\n",
    "#Envio de E-mail\n",
    "import smtplib\n",
    "import email.message"
   ]
  },
  {
   "cell_type": "markdown",
   "metadata": {},
   "source": [
    "### Alerta de Script"
   ]
  },
  {
   "cell_type": "code",
   "execution_count": 10,
   "metadata": {},
   "outputs": [
    {
     "name": "stdout",
     "output_type": "stream",
     "text": [
      "Confirmado\n",
      "O script continua executando...\n"
     ]
    }
   ],
   "source": [
    "def confirm_dialog():\n",
    "    # Criando a janela principal (oculta)\n",
    "    root = tk.Tk()\n",
    "    root.withdraw()  # Ocultar a janela principal\n",
    "   \n",
    "    result = messagebox.askquestion(\"Script\", \"Script de extração/inserção das Bases.\", icon='question')\n",
    "    \n",
    "    if result == 'yes':\n",
    "        print(\"Confirmado\")\n",
    "    else:\n",
    "        print(\"Cancelado\")\n",
    "        sys.exit()  # Interromper o script se \"Cancelar\" for clicado\n",
    "\n",
    "confirm_dialog()\n",
    "\n",
    "print(\"O script continua executando...\")"
   ]
  },
  {
   "cell_type": "markdown",
   "metadata": {},
   "source": [
    "### Web Scraping"
   ]
  },
  {
   "cell_type": "code",
   "execution_count": 11,
   "metadata": {},
   "outputs": [
    {
     "name": "stdout",
     "output_type": "stream",
     "text": [
      "Web Scraping Executado\n"
     ]
    }
   ],
   "source": [
    "chromedriver_autoinstaller.install()\n",
    "Navegador = webdriver.Chrome()\n",
    "\n",
    "Link = \"https://www.kaggle.com/datasets/thedevastator/the-ultimate-netflix-tv-shows-and-movies-dataset\"\n",
    "Navegador.get(Link)\n",
    "sleep(1)\n",
    "\n",
    "Button_Sign_In = Navegador.find_element('xpath', '//*[@id=\"site-container\"]/div/div[4]/div[2]/div[2]/div/div[1]/a/button')\n",
    "Button_Sign_In.click()\n",
    "sleep(1)\n",
    "\n",
    "Button_Email = Navegador.find_element('xpath', '//*[@id=\"site-content\"]/div[2]/div/div/div[1]/form/div/div/div[1]/button[2]')\n",
    "Button_Email.click()\n",
    "sleep(1)\n",
    "\n",
    "Email_Address = Navegador.find_element('xpath', '//*[@id=\":r7:\"]')\n",
    "Email_Address.send_keys('emiliano.junqueira@gmail.com')\n",
    "\n",
    "Password = Navegador.find_element('xpath', '//*[@id=\":r8:\"]')\n",
    "Password .send_keys('K@ggle0051')\n",
    "\n",
    "Sign_In = Navegador.find_element('xpath', '//*[@id=\"site-content\"]/div[2]/div[1]/div/div[1]/form/div/div[4]/button[2]')\n",
    "Sign_In.click()\n",
    "sleep(5)\n",
    "\n",
    "Download = Navegador.find_element('xpath', '//*[@id=\"site-content\"]/div[2]/div/div[2]/div/div[2]/div[1]/div/div[2]/div[1]/button[1]')\n",
    "Download.click()\n",
    "sleep(5)\n",
    "\n",
    "Navegador.quit()\n",
    "\n",
    "print(\"Web Scraping Executado\")"
   ]
  },
  {
   "cell_type": "markdown",
   "metadata": {},
   "source": [
    "### Organizar e Extrair o arquivo ZIP"
   ]
  },
  {
   "cell_type": "code",
   "execution_count": 12,
   "metadata": {},
   "outputs": [
    {
     "name": "stdout",
     "output_type": "stream",
     "text": [
      "Arquivos Organizados\n"
     ]
    }
   ],
   "source": [
    "Origin = ('C:\\\\Users\\\\Miza\\\\Downloads\\\\archive.zip')\n",
    "Destiny = Path('C:\\\\Users\\\\Miza\\\\Desktop\\\\CoderHouse\\\\ProjetoSQL')\n",
    "\n",
    "shutil.copy2(Origin, Destiny)\n",
    "\n",
    "if os.path.exists(Origin):\n",
    "    os.remove(Origin)\n",
    "\n",
    "with ZipFile(\"archive.zip\", \"r\") as zip:\n",
    "    zip.extractall()\n",
    "\n",
    "print(\"Arquivos Organizados\")    "
   ]
  },
  {
   "cell_type": "markdown",
   "metadata": {},
   "source": [
    "### Conexão ao MySQL"
   ]
  },
  {
   "cell_type": "code",
   "execution_count": 13,
   "metadata": {},
   "outputs": [
    {
     "name": "stdout",
     "output_type": "stream",
     "text": [
      "Efetuado coenxão ao DB\n"
     ]
    }
   ],
   "source": [
    "# Parâmetros de conexão\n",
    "usuario = \"root\"\n",
    "senha = \"Are@0051\"\n",
    "host = \"localhost\"  # Ou o IP do servidor\n",
    "nome_do_banco = \"netflix\"\n",
    "\n",
    "# URL-encode da senha para tratar caracteres especiais\n",
    "senha_codificada = urllib.parse.quote_plus(senha)\n",
    "\n",
    "# String de conexão com MySQL\n",
    "conexao_string = f\"mysql+pymysql://{usuario}:{senha_codificada}@{host}/{nome_do_banco}\"\n",
    "\n",
    "# Criação do engine de conexão\n",
    "engine = create_engine(conexao_string)\n",
    "\n",
    "print(\"Efetuado coenxão ao DB\")"
   ]
  },
  {
   "cell_type": "markdown",
   "metadata": {},
   "source": [
    "### Truncar e Sobrescrever tabelas no DB"
   ]
  },
  {
   "cell_type": "code",
   "execution_count": 14,
   "metadata": {},
   "outputs": [
    {
     "name": "stdout",
     "output_type": "stream",
     "text": [
      "Tabelas sobrescritas com sucesso!\n"
     ]
    }
   ],
   "source": [
    "# Função para sobrescrever a tabela no banco de dados\n",
    "def sobrescrever_tabela(tabela_nome, df):\n",
    "    with engine.begin() as connection:\n",
    "        # Limpar a tabela (TRUNCATE mantém a estrutura e chaves)\n",
    "        connection.execute(text(f\"TRUNCATE TABLE {tabela_nome}\"))\n",
    "        \n",
    "        # Inserir os novos dados\n",
    "        df.to_sql(tabela_nome, con=connection, if_exists='append', index=False)\n",
    "\n",
    "# Lista de tabelas e arquivos CSV correspondentes\n",
    "tabelas_arquivos = {\n",
    "\n",
    "    \"best_movie_by_year_netflix\"  : \"C:/Users/Miza/Desktop/CoderHouse/ProjetoSQL/Best Movie by Year Netflix.csv\",\n",
    "    \"best_movies_netflix\"         : \"C:/Users/Miza/Desktop/CoderHouse/ProjetoSQL/Best Movies Netflix.csv\",\n",
    "    \"best_show_by_year_netflix\"   : \"C:/Users/Miza/Desktop/CoderHouse/ProjetoSQL/Best Show by Year Netflix.csv\",\n",
    "    \"best_shows_netflix\"          : \"C:/Users/Miza/Desktop/CoderHouse/ProjetoSQL/Best Shows Netflix.csv\",\n",
    "    \"raw_credits\"                 : \"C:/Users/Miza/Desktop/CoderHouse/ProjetoSQL/raw_credits.csv\",\n",
    "    \"raw_titles\"                  : \"C:/Users/Miza/Desktop/CoderHouse/ProjetoSQL/raw_titles.csv\"\n",
    "    \n",
    "}\n",
    "\n",
    "# Itera sobre as tabelas e seus arquivos correspondentes\n",
    "for tabela, arquivo in tabelas_arquivos.items():\n",
    "    df = pd.read_csv(arquivo)   \n",
    "   \n",
    "    sobrescrever_tabela(tabela, df)\n",
    "\n",
    "print(\"Tabelas sobrescritas com sucesso!\")\n",
    "\n",
    "\n",
    "engine.dispose()"
   ]
  },
  {
   "cell_type": "markdown",
   "metadata": {},
   "source": [
    "### Email de Atualização Enviado"
   ]
  },
  {
   "cell_type": "code",
   "execution_count": 15,
   "metadata": {},
   "outputs": [
    {
     "name": "stdout",
     "output_type": "stream",
     "text": [
      "Email enviado com sucesso.\n"
     ]
    }
   ],
   "source": [
    "def sendEmail():\n",
    "    body_email= \"\"\"\n",
    "    \n",
    "    <p> Olá!! </p>\n",
    "    <p> Segue o link do Projeto Atualizado: <a href=\"https://github.com/EmilianoJMC/ProjetoSQL\"> \n",
    "    ProjetoSQL. </a> </p>   \n",
    "\n",
    "    <p> Att,, </p>  \n",
    "    \n",
    "    \"\"\"\n",
    "    \n",
    "    msg = email.message.Message()\n",
    "    msg['Subject'] = \"Projeto SQL Atualizado\"\n",
    "    msg['From'] = \"emiliano.junqueira@gmail.com\"\n",
    "    msg['To'] = \"emiliano.junqueira@gmail.com\"\n",
    "    password = 'ygep xoth agie mdek'\n",
    "    msg.add_header('Content-Type', 'text/html')\n",
    "    msg.set_payload(body_email)\n",
    "    \n",
    "    s = smtplib.SMTP('smtp.gmail.com: 587')\n",
    "    s.starttls()\n",
    "    s.login(msg['From'], password)\n",
    "    s.sendmail(msg['From'], [msg['To']], msg.as_string().encode('utf-8'))\n",
    "    s.quit()\n",
    "\n",
    "sendEmail() \n",
    "\n",
    "print(\"Email enviado com sucesso.\")"
   ]
  },
  {
   "cell_type": "markdown",
   "metadata": {},
   "source": [
    "### Alerta de Fim do Script "
   ]
  },
  {
   "cell_type": "code",
   "execution_count": 16,
   "metadata": {},
   "outputs": [
    {
     "name": "stdout",
     "output_type": "stream",
     "text": [
      "O script foi concluído.\n"
     ]
    }
   ],
   "source": [
    "# Alerta de conclusão\n",
    "def alert_end():\n",
    "    root = tk.Tk()\n",
    "    root.withdraw()  # Ocultar a janela principal\n",
    "    messagebox.showinfo(\"Conclusão\", \"O script foi concluído com sucesso!\")\n",
    "\n",
    "alert_end()\n",
    "\n",
    "print(\"O script foi concluído.\")"
   ]
  }
 ],
 "metadata": {
  "kernelspec": {
   "display_name": "Python 3",
   "language": "python",
   "name": "python3"
  },
  "language_info": {
   "codemirror_mode": {
    "name": "ipython",
    "version": 3
   },
   "file_extension": ".py",
   "mimetype": "text/x-python",
   "name": "python",
   "nbconvert_exporter": "python",
   "pygments_lexer": "ipython3",
   "version": "3.12.2"
  }
 },
 "nbformat": 4,
 "nbformat_minor": 2
}
